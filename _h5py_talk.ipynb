{
 "cells": [
  {
   "cell_type": "markdown",
   "metadata": {},
   "source": [
    "# h5glance\n",
    "\n",
    "* `h5ls` shows too little, `h5ls -rv` too much\n",
    "* `hdfview` needs X forwarding, lots of clicking"
   ]
  },
  {
   "cell_type": "markdown",
   "metadata": {},
   "source": [
    "## Terminal view"
   ]
  },
  {
   "cell_type": "code",
   "execution_count": 23,
   "metadata": {},
   "outputs": [
    {
     "name": "stdout",
     "output_type": "stream",
     "text": [
      "\u001b[94msample.h5\u001b[0m\r\n",
      "├\u001b[94mgroup\u001b[0m\r\n",
      "│ └\u001b[94msubgroup\u001b[0m\r\n",
      "│   ├\u001b[1m0\u001b[0m\t[float64: 10 × 5 × 0] (1 attributes)\r\n",
      "│   ├\u001b[1m1\u001b[0m\t[float64: 10 × 5 × 1] (1 attributes)\r\n",
      "│   ├\u001b[1m2\u001b[0m\t[float64: 10 × 5 × 2] (1 attributes)\r\n",
      "│   ├\u001b[1m3\u001b[0m\t[float64: 10 × 5 × 3] (1 attributes)\r\n",
      "│   ├\u001b[1m4\u001b[0m\t[float64: 10 × 5 × 4] (1 attributes)\r\n",
      "│   ├\u001b[1m5\u001b[0m\t[float64: 10 × 5 × 5] (1 attributes)\r\n",
      "│   ├\u001b[1m6\u001b[0m\t[float64: 10 × 5 × 6] (1 attributes)\r\n",
      "│   ├\u001b[1m7\u001b[0m\t[float64: 10 × 5 × 7] (1 attributes)\r\n",
      "│   ├\u001b[1m8\u001b[0m\t[float64: 10 × 5 × 8] (1 attributes)\r\n",
      "│   └\u001b[1m9\u001b[0m\t[float64: 10 × 5 × 9] (1 attributes)\r\n",
      "└\u001b[95mlatest\u001b[0m\t-> group/subgroup/9\r\n",
      "\r\n"
     ]
    }
   ],
   "source": [
    "!h5glance sample.h5"
   ]
  },
  {
   "cell_type": "code",
   "execution_count": 24,
   "metadata": {},
   "outputs": [
    {
     "name": "stdout",
     "output_type": "stream",
     "text": [
      "sample.h5/group/subgroup/6\r\n",
      "      dtype: float64\r\n",
      "      shape: 10 × 5 × 6\r\n",
      "   maxshape: 10 × 5 × 6\r\n",
      "     layout: Contiguous\r\n",
      "\r\n",
      "sample data:\r\n",
      "[[0. 0. 0. 0. 0. 0.]\r\n",
      " [0. 0. 0. 0. 0. 0.]\r\n",
      " [0. 0. 0. 0. 0. 0.]\r\n",
      " [0. 0. 0. 0. 0. 0.]\r\n",
      " [0. 0. 0. 0. 0. 0.]]\r\n",
      "\r\n",
      "1 attributes:\r\n",
      "* square: 36\r\n",
      "\r\n"
     ]
    }
   ],
   "source": [
    "!h5glance sample.h5 group/subgroup/6"
   ]
  },
  {
   "cell_type": "markdown",
   "metadata": {},
   "source": [
    "**Tab completion** for bash & zsh"
   ]
  },
  {
   "cell_type": "markdown",
   "metadata": {},
   "source": [
    "## Notebook"
   ]
  },
  {
   "cell_type": "code",
   "execution_count": 25,
   "metadata": {},
   "outputs": [],
   "source": [
    "import h5py\n",
    "from h5glance import H5Glance"
   ]
  },
  {
   "cell_type": "code",
   "execution_count": 26,
   "metadata": {},
   "outputs": [
    {
     "data": {
      "text/plain": [
       "<HDF5 file \"sample.h5\" (mode r)>"
      ]
     },
     "execution_count": 26,
     "metadata": {},
     "output_type": "execute_result"
    }
   ],
   "source": [
    "f = h5py.File('sample.h5', 'r')\n",
    "f"
   ]
  },
  {
   "cell_type": "code",
   "execution_count": 27,
   "metadata": {},
   "outputs": [
    {
     "data": {
      "text/html": [
       "<div><style>/* Based on https://css-tricks.com/snippets/css/nested-expandable-folders/\n",
       "   Reused with permission from https://css-tricks.com/license/\n",
       "*/\n",
       "\n",
       ".h5glance-css-treeview ul,\n",
       ".h5glance-css-treeview li\n",
       "{\n",
       "\tpadding: 0;\n",
       "\tmargin: 0;\n",
       "    margin-left: 12px;\n",
       "\tlist-style: none;\n",
       "}\n",
       "\n",
       "/* Override padding from Jupyter CSS */\n",
       ".rendered_html .h5glance-css-treeview ul {\n",
       "    padding: 0;\n",
       "}\n",
       "\n",
       "/* Make the checkbox itself invisible */\n",
       ".h5glance-css-treeview input\n",
       "{\n",
       "\tposition: absolute;\n",
       "\topacity: 0;\n",
       "}\n",
       "\n",
       ".h5glance-css-treeview\n",
       "{\n",
       "    font-family: sans-serif;\n",
       "\t-moz-user-select: none;\n",
       "\t-webkit-user-select: none;\n",
       "\tuser-select: none;\n",
       "}\n",
       "\n",
       ".h5glance-css-treeview code {\n",
       "    font-size: 12pt;\n",
       "    font-family: \"courier\", monospace;\n",
       "}\n",
       "\n",
       ".h5glance-css-treeview a.h5glance-dataset-copylink\n",
       "{\n",
       "    text-decoration: none;\n",
       "}\n",
       "\n",
       "/* These next two bits drive the expanding/collapsing behaviour */\n",
       ".h5glance-css-treeview input + label + ul\n",
       "{\n",
       "\tdisplay: none;\n",
       "}\n",
       "\n",
       ".h5glance-css-treeview input:checked:not(:disabled) + label + ul\n",
       "{\n",
       "\tdisplay: block;\n",
       "}\n",
       "\n",
       ".h5glance-css-treeview label,\n",
       ".h5glance-css-treeview label::before\n",
       "{\n",
       "\tdisplay: inline-block;\n",
       "\theight: 16px;\n",
       "\tline-height: 16px;,\n",
       "\tvertical-align: middle;\n",
       "}\n",
       "\n",
       ".h5glance-css-treeview label\n",
       "{\n",
       "    margin-left: -1.5em;\n",
       "}\n",
       "\n",
       ".h5glance-css-treeview label::before\n",
       "{\n",
       "\tcontent: \"\\229e\"; /* squared plus */\n",
       "\twidth: 1.5em;\n",
       "\tvertical-align: middle;\n",
       "}\n",
       "\n",
       ".h5glance-css-treeview input:checked + label::before\n",
       "{\n",
       "    content: \"\\229f\";  /* squared minus */\n",
       "}\n",
       "\n",
       "/* webkit adjacent element selector bugfix */\n",
       "@media screen and (-webkit-min-device-pixel-ratio:0)\n",
       "{\n",
       "\t.h5glance-css-treeview\n",
       "\t{\n",
       "\t\t-webkit-animation: webkit-adjacent-element-selector-bugfix infinite 1s;\n",
       "\t}\n",
       "\n",
       "\t@-webkit-keyframes webkit-adjacent-element-selector-bugfix\n",
       "\t{\n",
       "\t\tfrom\n",
       "\t\t{\n",
       "\t\t\tpadding: 0;\n",
       "\t\t}\n",
       "\t\tto\n",
       "\t\t{\n",
       "\t\t\tpadding: 0;\n",
       "\t\t}\n",
       "\t}\n",
       "}\n",
       "\n",
       ".h5glance-css-treeview li.h5glance-dataset {\n",
       "    margin-bottom: 3px;\n",
       "}\n",
       "\n",
       ".h5glance-dataset-name {\n",
       "    font-weight: bold;\n",
       "}\n",
       "</style><div id=\"h5glance-container-1\" class=\"h5glance-css-treeview\"><ul><li><input checked=\"checked\" id=\"h5glance-expand-switch-3\" type=\"checkbox\"/><label for=\"h5glance-expand-switch-3\">sample.h5</label><ul><li><input id=\"h5glance-expand-switch-4\" type=\"checkbox\"/><label for=\"h5glance-expand-switch-4\">group</label><ul><li><input id=\"h5glance-expand-switch-5\" type=\"checkbox\"/><label for=\"h5glance-expand-switch-5\">subgroup</label><ul><li class=\"h5glance-dataset\"><span class=\"h5glance-dataset-name\">0</span> <a data-hdf5-path=\"/group/subgroup/0\" href=\"#\" class=\"h5glance-dataset-copylink\">[📋]</a>: 10 × 5 × 0 entries, dtype: <abbr title=\"64-bit floating point\"><code>&lt;f8</code></abbr></li><li class=\"h5glance-dataset\"><span class=\"h5glance-dataset-name\">1</span> <a data-hdf5-path=\"/group/subgroup/1\" href=\"#\" class=\"h5glance-dataset-copylink\">[📋]</a>: 10 × 5 × 1 entries, dtype: <abbr title=\"64-bit floating point\"><code>&lt;f8</code></abbr></li><li class=\"h5glance-dataset\"><span class=\"h5glance-dataset-name\">2</span> <a data-hdf5-path=\"/group/subgroup/2\" href=\"#\" class=\"h5glance-dataset-copylink\">[📋]</a>: 10 × 5 × 2 entries, dtype: <abbr title=\"64-bit floating point\"><code>&lt;f8</code></abbr></li><li class=\"h5glance-dataset\"><span class=\"h5glance-dataset-name\">3</span> <a data-hdf5-path=\"/group/subgroup/3\" href=\"#\" class=\"h5glance-dataset-copylink\">[📋]</a>: 10 × 5 × 3 entries, dtype: <abbr title=\"64-bit floating point\"><code>&lt;f8</code></abbr></li><li class=\"h5glance-dataset\"><span class=\"h5glance-dataset-name\">4</span> <a data-hdf5-path=\"/group/subgroup/4\" href=\"#\" class=\"h5glance-dataset-copylink\">[📋]</a>: 10 × 5 × 4 entries, dtype: <abbr title=\"64-bit floating point\"><code>&lt;f8</code></abbr></li><li class=\"h5glance-dataset\"><span class=\"h5glance-dataset-name\">5</span> <a data-hdf5-path=\"/group/subgroup/5\" href=\"#\" class=\"h5glance-dataset-copylink\">[📋]</a>: 10 × 5 × 5 entries, dtype: <abbr title=\"64-bit floating point\"><code>&lt;f8</code></abbr></li><li class=\"h5glance-dataset\"><span class=\"h5glance-dataset-name\">6</span> <a data-hdf5-path=\"/group/subgroup/6\" href=\"#\" class=\"h5glance-dataset-copylink\">[📋]</a>: 10 × 5 × 6 entries, dtype: <abbr title=\"64-bit floating point\"><code>&lt;f8</code></abbr></li><li class=\"h5glance-dataset\"><span class=\"h5glance-dataset-name\">7</span> <a data-hdf5-path=\"/group/subgroup/7\" href=\"#\" class=\"h5glance-dataset-copylink\">[📋]</a>: 10 × 5 × 7 entries, dtype: <abbr title=\"64-bit floating point\"><code>&lt;f8</code></abbr></li><li class=\"h5glance-dataset\"><span class=\"h5glance-dataset-name\">8</span> <a data-hdf5-path=\"/group/subgroup/8\" href=\"#\" class=\"h5glance-dataset-copylink\">[📋]</a>: 10 × 5 × 8 entries, dtype: <abbr title=\"64-bit floating point\"><code>&lt;f8</code></abbr></li><li class=\"h5glance-dataset\"><span class=\"h5glance-dataset-name\">9</span> <a data-hdf5-path=\"/group/subgroup/9\" href=\"#\" class=\"h5glance-dataset-copylink\">[📋]</a>: 10 × 5 × 9 entries, dtype: <abbr title=\"64-bit floating point\"><code>&lt;f8</code></abbr></li></ul></li></ul></li><li class=\"h5glance-dataset\"><span class=\"h5glance-dataset-name\">latest</span> <a data-hdf5-path=\"/latest\" href=\"#\" class=\"h5glance-dataset-copylink\">[📋]</a>: 10 × 5 × 9 entries, dtype: <abbr title=\"64-bit floating point\"><code>&lt;f8</code></abbr></li></ul></li></ul></div><script>// Based on code by Stackoverflow user Dean Taylor\n",
       "// https://stackoverflow.com/questions/400212/how-do-i-copy-to-the-clipboard-in-javascript/30810322\n",
       "// Used under Stackoverflow's CC-BY-SA 3.0 license\n",
       "\n",
       "(function() {\n",
       "    function copyTextToClipboard(text) {\n",
       "        let textArea = document.createElement(\"textarea\");\n",
       "\n",
       "        //\n",
       "        // *** This styling is an extra step which is likely not required. ***\n",
       "        //\n",
       "        // Why is it here? To ensure:\n",
       "        // 1. the element is able to have focus and selection.\n",
       "        // 2. if element was to flash render it has minimal visual impact.\n",
       "        // 3. less flakyness with selection and copying which **might** occur if\n",
       "        //    the textarea element is not visible.\n",
       "        //\n",
       "        // The likelihood is the element won't even render, not even a flash,\n",
       "        // so some of these are just precautions. However in IE the element\n",
       "        // is visible whilst the popup box asking the user for permission for\n",
       "        // the web page to copy to the clipboard.\n",
       "        //\n",
       "\n",
       "        // Place in top-left corner of screen regardless of scroll position.\n",
       "        textArea.style.position = 'fixed';\n",
       "        textArea.style.top = 0;\n",
       "        textArea.style.left = 0;\n",
       "\n",
       "        // Ensure it has a small width and height. Setting to 1px / 1em\n",
       "        // doesn't work as this gives a negative w/h on some browsers.\n",
       "        textArea.style.width = '2em';\n",
       "        textArea.style.height = '2em';\n",
       "\n",
       "        // We don't need padding, reducing the size if it does flash render.\n",
       "        textArea.style.padding = 0;\n",
       "\n",
       "        // Clean up any borders.\n",
       "        textArea.style.border = 'none';\n",
       "        textArea.style.outline = 'none';\n",
       "        textArea.style.boxShadow = 'none';\n",
       "\n",
       "        // Avoid flash of white box if rendered for any reason.\n",
       "        textArea.style.background = 'transparent';\n",
       "\n",
       "\n",
       "        textArea.value = text;\n",
       "\n",
       "        document.body.appendChild(textArea);\n",
       "        textArea.focus();\n",
       "        textArea.select();\n",
       "\n",
       "        try {\n",
       "            if (!document.execCommand('copy')) {\n",
       "                console.log(\"Unable to copy text with document.execCommand()\");\n",
       "            }\n",
       "        } finally {\n",
       "            document.body.removeChild(textArea);\n",
       "        }\n",
       "    }\n",
       "\n",
       "    function copy_event_handler(event) {\n",
       "        copyTextToClipboard(event.target.dataset.hdf5Path);\n",
       "        event.preventDefault();\n",
       "    }\n",
       "\n",
       "    function enable_copylinks(parent) {\n",
       "        let links = parent.querySelectorAll(\".h5glance-dataset-copylink\");\n",
       "        links.forEach(function (link) {\n",
       "            link.addEventListener(\"click\", copy_event_handler);\n",
       "        });\n",
       "    }\n",
       "\n",
       "    // The code to actually trigger this is substituted below.\n",
       "    \n",
       "enable_copylinks(document.getElementById(\"h5glance-container-1\"));\n",
       "\n",
       "})();\n",
       "</script></div>"
      ],
      "text/plain": [
       "<h5glance.generate.H5Glance at 0x7f5c74f65be0>"
      ]
     },
     "execution_count": 27,
     "metadata": {},
     "output_type": "execute_result"
    }
   ],
   "source": [
    "H5Glance(f)"
   ]
  },
  {
   "cell_type": "markdown",
   "metadata": {},
   "source": [
    "📋: Copy path to clipboard"
   ]
  },
  {
   "cell_type": "code",
   "execution_count": 28,
   "metadata": {},
   "outputs": [
    {
     "data": {
      "text/plain": [
       "<HDF5 dataset \"1\": shape (10, 5, 1), type \"<f8\">"
      ]
     },
     "execution_count": 28,
     "metadata": {},
     "output_type": "execute_result"
    }
   ],
   "source": [
    "f['/group/subgroup/1']"
   ]
  },
  {
   "cell_type": "markdown",
   "metadata": {},
   "source": [
    "# h5py"
   ]
  },
  {
   "cell_type": "markdown",
   "metadata": {},
   "source": [
    "## File & Group\n",
    "\n",
    "Like nested dictionaries:"
   ]
  },
  {
   "cell_type": "code",
   "execution_count": 29,
   "metadata": {},
   "outputs": [
    {
     "data": {
      "text/plain": [
       "<HDF5 group \"/group\" (1 members)>"
      ]
     },
     "execution_count": 29,
     "metadata": {},
     "output_type": "execute_result"
    }
   ],
   "source": [
    "f['group']"
   ]
  },
  {
   "cell_type": "code",
   "execution_count": 30,
   "metadata": {},
   "outputs": [
    {
     "name": "stdout",
     "output_type": "stream",
     "text": [
      "group -- <HDF5 group \"/group\" (1 members)>\n",
      "latest -- <HDF5 dataset \"latest\": shape (10, 5, 9), type \"<f8\">\n"
     ]
    }
   ],
   "source": [
    "for key, value in f.items():\n",
    "    print(key, '--',  value)"
   ]
  },
  {
   "cell_type": "code",
   "execution_count": 31,
   "metadata": {},
   "outputs": [
    {
     "data": {
      "text/plain": [
       "<HDF5 group \"/group/subgroup\" (10 members)>"
      ]
     },
     "execution_count": 31,
     "metadata": {},
     "output_type": "execute_result"
    }
   ],
   "source": [
    "f['group']['subgroup']"
   ]
  },
  {
   "cell_type": "code",
   "execution_count": 32,
   "metadata": {},
   "outputs": [
    {
     "data": {
      "text/plain": [
       "<HDF5 group \"/group/subgroup\" (10 members)>"
      ]
     },
     "execution_count": 32,
     "metadata": {},
     "output_type": "execute_result"
    }
   ],
   "source": [
    "f['group/subgroup']"
   ]
  },
  {
   "cell_type": "code",
   "execution_count": 33,
   "metadata": {},
   "outputs": [
    {
     "data": {
      "text/plain": [
       "<HDF5 dataset \"8\": shape (10, 5, 8), type \"<f8\">"
      ]
     },
     "execution_count": 33,
     "metadata": {},
     "output_type": "execute_result"
    }
   ],
   "source": [
    "f['group/subgroup/8']"
   ]
  },
  {
   "cell_type": "markdown",
   "metadata": {},
   "source": [
    "## Datasets\n",
    "\n",
    "Like numpy arrays, slice to read data:"
   ]
  },
  {
   "cell_type": "code",
   "execution_count": 34,
   "metadata": {},
   "outputs": [
    {
     "data": {
      "text/plain": [
       "array([[0., 0., 0., 0., 0., 0., 0., 0.],\n",
       "       [0., 0., 0., 0., 0., 0., 0., 0.],\n",
       "       [0., 0., 0., 0., 0., 0., 0., 0.]])"
      ]
     },
     "execution_count": 34,
     "metadata": {},
     "output_type": "execute_result"
    }
   ],
   "source": [
    "ds = f['group/subgroup/8']\n",
    "ds[0, 0:3]"
   ]
  },
  {
   "cell_type": "markdown",
   "metadata": {},
   "source": [
    "Create small datasets simply from numpy arrays:"
   ]
  },
  {
   "cell_type": "code",
   "execution_count": 35,
   "metadata": {},
   "outputs": [
    {
     "data": {
      "text/plain": [
       "array([[ 0,  1,  2,  3,  4,  5],\n",
       "       [ 6,  7,  8,  9, 10, 11],\n",
       "       [12, 13, 14, 15, 16, 17],\n",
       "       [18, 19, 20, 21, 22, 23],\n",
       "       [24, 25, 26, 27, 28, 29]])"
      ]
     },
     "execution_count": 35,
     "metadata": {},
     "output_type": "execute_result"
    }
   ],
   "source": [
    "import numpy as np\n",
    "\n",
    "arr = np.arange(30).reshape(5, 6)\n",
    "arr"
   ]
  },
  {
   "cell_type": "code",
   "execution_count": 36,
   "metadata": {},
   "outputs": [
    {
     "data": {
      "text/plain": [
       "<HDF5 dataset \"data\": shape (5, 6), type \"<i8\">"
      ]
     },
     "execution_count": 36,
     "metadata": {},
     "output_type": "execute_result"
    }
   ],
   "source": [
    "f2 = h5py.File('demo.h5', 'w')\n",
    "f2['data'] = arr\n",
    "f2['data']"
   ]
  },
  {
   "cell_type": "markdown",
   "metadata": {},
   "source": [
    "Create big datasets without data, then fill them piecewise:"
   ]
  },
  {
   "cell_type": "code",
   "execution_count": 37,
   "metadata": {},
   "outputs": [
    {
     "data": {
      "text/plain": [
       "array([[0, 1, 2, 3, 4, 5],\n",
       "       [0, 1, 2, 3, 4, 5],\n",
       "       [0, 0, 0, 0, 0, 0],\n",
       "       [0, 0, 0, 0, 0, 0]])"
      ]
     },
     "execution_count": 37,
     "metadata": {},
     "output_type": "execute_result"
    }
   ],
   "source": [
    "big_dataset = f2.create_dataset('big_data', shape=(1_000_000, 5, 6), dtype=np.int64)\n",
    "\n",
    "for a in range(10):\n",
    "    big_dataset[a] = arr\n",
    "\n",
    "big_dataset[8:12, 0]"
   ]
  },
  {
   "cell_type": "markdown",
   "metadata": {},
   "source": [
    "Datasets can grow:"
   ]
  },
  {
   "cell_type": "code",
   "execution_count": 38,
   "metadata": {},
   "outputs": [
    {
     "data": {
      "text/plain": [
       "(110, 5, 6)"
      ]
     },
     "execution_count": 38,
     "metadata": {},
     "output_type": "execute_result"
    }
   ],
   "source": [
    "growing_dataset = f2.create_dataset('growing_data', shape=(0, 5, 6), maxshape=(None, 5, 6), dtype=np.int64)\n",
    "\n",
    "for a in range(103):\n",
    "    dim0 = growing_dataset.shape[0]\n",
    "    if a >= dim0:\n",
    "        growing_dataset.resize((dim0 + 10, 5, 6))\n",
    "    \n",
    "    growing_dataset[a] = arr\n",
    "\n",
    "growing_dataset.shape"
   ]
  },
  {
   "cell_type": "code",
   "execution_count": 39,
   "metadata": {},
   "outputs": [],
   "source": [
    "f2.close()"
   ]
  },
  {
   "cell_type": "markdown",
   "metadata": {},
   "source": [
    "## Low-level API"
   ]
  },
  {
   "cell_type": "code",
   "execution_count": 40,
   "metadata": {},
   "outputs": [
    {
     "data": {
      "text/plain": [
       "<h5py.h5d.DatasetID at 0x7f5c74eeb780>"
      ]
     },
     "execution_count": 40,
     "metadata": {},
     "output_type": "execute_result"
    }
   ],
   "source": [
    "ds.id"
   ]
  },
  {
   "cell_type": "code",
   "execution_count": 41,
   "metadata": {},
   "outputs": [
    {
     "data": {
      "text/plain": [
       "17832"
      ]
     },
     "execution_count": 41,
     "metadata": {},
     "output_type": "execute_result"
    }
   ],
   "source": [
    "ds.id.get_offset()"
   ]
  },
  {
   "cell_type": "code",
   "execution_count": 42,
   "metadata": {},
   "outputs": [
    {
     "data": {
      "text/plain": [
       "0"
      ]
     },
     "execution_count": 42,
     "metadata": {},
     "output_type": "execute_result"
    }
   ],
   "source": [
    "dcpl = ds.id.get_create_plist()\n",
    "dcpl.get_nfilters()"
   ]
  },
  {
   "cell_type": "markdown",
   "metadata": {},
   "source": [
    "# Virtual datasets"
   ]
  },
  {
   "cell_type": "markdown",
   "metadata": {},
   "source": [
    "![](vds_concept.svg)"
   ]
  },
  {
   "cell_type": "code",
   "execution_count": 43,
   "metadata": {},
   "outputs": [],
   "source": [
    "# Create source files (1.h5 to 4.h5)\n",
    "for n in range(1, 5):\n",
    "    with h5py.File('{}.h5'.format(n), 'w') as f:\n",
    "        f['data'] = np.arange(100) + n"
   ]
  },
  {
   "cell_type": "code",
   "execution_count": 44,
   "metadata": {},
   "outputs": [
    {
     "name": "stdout",
     "output_type": "stream",
     "text": [
      "Virtual dataset:\n",
      "[[ 1  2  3  4  5  6  7  8  9 10]\n",
      " [ 2  3  4  5  6  7  8  9 10 11]\n",
      " [ 3  4  5  6  7  8  9 10 11 12]\n",
      " [ 4  5  6  7  8  9 10 11 12 13]]\n"
     ]
    }
   ],
   "source": [
    "# Assemble virtual dataset\n",
    "layout = h5py.VirtualLayout(shape=(4, 100), dtype='i4')\n",
    "\n",
    "for n in range(1, 5):\n",
    "    filename = \"{}.h5\".format(n)\n",
    "    vsource = h5py.VirtualSource(filename, 'data', shape=(100,))\n",
    "\n",
    "    layout[n - 1] = vsource\n",
    "\n",
    "# Add virtual dataset to output file\n",
    "with h5py.File(\"VDS.h5\", 'w', libver='latest') as f:\n",
    "    f.create_virtual_dataset('data', layout, fillvalue=-5)\n",
    "    print(\"Virtual dataset:\")\n",
    "    print(f['data'][:, :10])"
   ]
  },
  {
   "cell_type": "code",
   "execution_count": 45,
   "metadata": {},
   "outputs": [
    {
     "name": "stdout",
     "output_type": "stream",
     "text": [
      "\u001b[94mVDS.h5\u001b[0m\r\n",
      "└\u001b[1mdata\u001b[0m\t[int32: 4 × 100] virtual\r\n",
      "\r\n"
     ]
    }
   ],
   "source": [
    "!h5glance VDS.h5"
   ]
  },
  {
   "cell_type": "code",
   "execution_count": null,
   "metadata": {},
   "outputs": [],
   "source": []
  }
 ],
 "metadata": {
  "kernelspec": {
   "display_name": "Python 3",
   "language": "python",
   "name": "python3"
  },
  "language_info": {
   "codemirror_mode": {
    "name": "ipython",
    "version": 3
   },
   "file_extension": ".py",
   "mimetype": "text/x-python",
   "name": "python",
   "nbconvert_exporter": "python",
   "pygments_lexer": "ipython3",
   "version": "3.9.1"
  }
 },
 "nbformat": 4,
 "nbformat_minor": 2
}
